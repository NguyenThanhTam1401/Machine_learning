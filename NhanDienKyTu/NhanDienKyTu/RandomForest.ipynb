{
 "metadata": {
  "language_info": {
   "codemirror_mode": {
    "name": "ipython",
    "version": 3
   },
   "file_extension": ".py",
   "mimetype": "text/x-python",
   "name": "python",
   "nbconvert_exporter": "python",
   "pygments_lexer": "ipython3",
   "version": "3.8.6-final"
  },
  "orig_nbformat": 2,
  "kernelspec": {
   "name": "python3",
   "display_name": "Python 3.8.6 64-bit",
   "metadata": {
    "interpreter": {
     "hash": "2db524e06e9f5f4ffedc911c917cb75e12dbc923643829bf417064a77eb14d37"
    }
   }
  }
 },
 "nbformat": 4,
 "nbformat_minor": 2,
 "cells": [
  {
   "cell_type": "code",
   "execution_count": 1,
   "metadata": {},
   "outputs": [
    {
     "output_type": "execute_result",
     "data": {
      "text/plain": [
       "['balanced', 'byclass', 'bymerge', 'digits', 'letters', 'mnist']"
      ]
     },
     "metadata": {},
     "execution_count": 1
    }
   ],
   "source": [
    "# In[0]: IMPORTS\n",
    "import matplotlib as mpl\n",
    "import matplotlib.pyplot as plt\n",
    "import numpy as np\n",
    "import pandas as pd\n",
    "import joblib\n",
    "\n",
    "from emnist import list_datasets\n",
    "list_datasets()\n",
    "#['balanced', 'byclass', 'bymerge', 'digits', 'letters', 'mnist']\n",
    "#Classes:\n",
    "#classes 0 -> 9: số 0 đến 9.\n",
    "#10: A\n",
    "#11: B\n",
    "#12: c, C\n",
    "#13: D\n",
    "#14: E\n",
    "#15: F\n",
    "#16: G\n",
    "#17: H\n",
    "#18: i, I\n",
    "#19: j, J\n",
    "#20: k, K\n",
    "#21: l, L\n",
    "#22: m, M\n",
    "#23: N \n",
    "#24: o, O\n",
    "#25: p, P \n",
    "#26: Q\n",
    "#27: R\n",
    "#28: s, S\n",
    "#29: T \n",
    "#30: u, U\n",
    "#31: v, V \n",
    "#32: w, W \n",
    "#33: x, X\n",
    "#34: y, Y \n",
    "#35: z, Z\n",
    "#36: a\n",
    "#37: b\n",
    "#38: d\n",
    "#39: e\n",
    "#40: f \n",
    "#41: g\n",
    "#42: h\n",
    "#43: n\n",
    "#44: q\n",
    "#45: r\n",
    "#46: t\n"
   ]
  },
  {
   "cell_type": "code",
   "execution_count": 3,
   "metadata": {},
   "outputs": [
    {
     "output_type": "stream",
     "name": "stdout",
     "text": [
      "x_train shape: (697932, 28, 28) y_train shape: (697932,)\nx_test shape: (116323, 28, 28) y_test shape: (116323,)\n"
     ]
    }
   ],
   "source": [
    "#Get train test.\n",
    "from emnist import extract_training_samples\n",
    "X_train, y_train = extract_training_samples('bymerge')\n",
    "\n",
    "#Get test set.\n",
    "from emnist import extract_test_samples\n",
    "X_test, y_test = extract_test_samples('bymerge')\n",
    "\n",
    "#In ra kiểm tra số lượng image train và test.\n",
    "#X_train, X_test là samples, y_train, y_test là nhãn.\n",
    "print(\"x_train shape:\", X_train.shape, \"y_train shape:\", y_train.shape)\n",
    "print(\"x_test shape:\", X_test.shape, \"y_test shape:\", y_test.shape)"
   ]
  },
  {
   "cell_type": "code",
   "execution_count": 5,
   "metadata": {},
   "outputs": [],
   "source": [
    "#Đổi matrix 28*28 pixel, thành một mảng 1 chiều 784 phần tử.\n",
    "X_train = X_train.reshape(697932,784)\n",
    "X_test = X_test.reshape(116323,784)"
   ]
  },
  {
   "cell_type": "code",
   "execution_count": 7,
   "metadata": {},
   "outputs": [],
   "source": [
    "# 1.3. Plot a digit image\n",
    "#Function để vẽ hình ra\n",
    "#Chỉ cần đưa mảng 2 chiều của một hình, nó sẽ vẽ được hình hoàn chỉnh.\n",
    "#Trước khi vẽ, cần kéo mảng 1 chiều thành mảng 2 chiều 28*28 pixel.\n",
    "def plot_digit(data, label = 'unspecified'):\n",
    "    image = data.reshape(28, 28)\n",
    "    plt.imshow(image, cmap = mpl.cm.binary)\n",
    "    plt.title(\"letter: \" + str(label))\n",
    "    #plt.axis(\"off\")\n",
    "    plt.show()\n",
    "sample_id = 10\n",
    "\n",
    "#Vẽ một hình ở row thứ sample_id, truyền vào feature, và label. \n",
    "sample_id = 15\n",
    "#plot_digit(X_train[sample_id], y_train[sample_id])"
   ]
  },
  {
   "cell_type": "code",
   "execution_count": 9,
   "metadata": {},
   "outputs": [],
   "source": [
    "#============================= RandomForestClassifier\n",
    "from sklearn.ensemble import RandomForestClassifier\n",
    "rf_clf = RandomForestClassifier(n_estimators=100, random_state=42)\n",
    "from sklearn.model_selection import cross_val_predict\n",
    "\n",
    "#Fit với data chưa được scale\n",
    "#if 0:\n",
    "#    rf_clf = rf_clf.fit(X_train, y_train)\n",
    "#    joblib.dump(rf_clf, 'saved_var/rf_clf')\n",
    "#else:\n",
    "#    rf_clf = joblib.load('saved_var/rf_clf')\n",
    "#print('học xong RandomForestClassifier')\n",
    "\n",
    "#if 0:\n",
    "#   y_probas_rf = cross_val_predict(rf_clf, X_train, y_train, cv=3, n_jobs=-1, method =\"predict_proba\")\n",
    "#   joblib.dump(y_probas_rf, 'saved_var/y_probas_forest')\n",
    "#else:\n",
    "#   y_probas_rf = joblib.load('saved_var/y_probas_forest')\n",
    "#print('xong predict_proba y_probas_rf')"
   ]
  },
  {
   "cell_type": "code",
   "execution_count": null,
   "metadata": {},
   "outputs": [],
   "source": [
    "from sklearn.preprocessing import StandardScaler\n",
    "scaler = StandardScaler()\n",
    "\n",
    "X_train_scaled = scaler.fit_transform(X_train.astype(np.float64))\n",
    "# 7.1. SGDClassifier (benefited from feature scaling)\n",
    "# Warning: takes time for new run! \n",
    "\n",
    "#Chạy lại RF, nhưng dữ liệu đầu vào đã được scale.\n",
    "\n",
    "#Fit model\n",
    "\n",
    "print('Bắt đầu fit với dữ liệu được scale')\n",
    "\n",
    "if 0:\n",
    "    rf_clf_after_scale = rf_clf_after_scale.fit(X_train_scaled, y_train)\n",
    "    joblib.dump(rf_clf_after_scale, 'saved_var/rf_clf_after_scale')\n",
    "else:\n",
    "    rf_clf_after_scale = joblib.load('saved_var/rf_clf_after_scale')\n",
    "print('học xong RandomForestClassifier')"
   ]
  },
  {
   "cell_type": "code",
   "execution_count": null,
   "metadata": {},
   "outputs": [],
   "source": [
    "if 1:\n",
    "    rf_acc_after_scaling = cross_val_score(rf_clf_after_scale, X_train_scaled, y_train, cv=3, scoring=\"accuracy\")\n",
    "    joblib.dump(rf_acc_after_scaling,'saved_var/rf_acc_after_scaling')\n",
    "else:\n",
    "    rf_acc_after_scaling = joblib.load('saved_var/rf_acc_after_scaling')"
   ]
  },
  {
   "cell_type": "code",
   "execution_count": null,
   "metadata": {},
   "outputs": [],
   "source": [
    "#if 1:\n",
    "#    rf_acc_after_scaling_test_set = cross_val_score(rf_clf, X_train_scaled, y_train, cv=3, scoring=\"accuracy\")\n",
    "#    joblib.dump(rf_acc_after_scaling_test_set,'saved_var/rf_acc_after_scaling_test_set')\n",
    "#else:\n",
    "#    rf_acc_after_scaling_test_set = joblib.load('saved_var/rf_acc_after_scaling_test_set')"
   ]
  },
  {
   "cell_type": "code",
   "execution_count": null,
   "metadata": {},
   "outputs": [],
   "source": [
    "## [5] Try Predict\n",
    "#print(\"Random forest predict:\")\n",
    "#sample_id = 155\n",
    "#print(rf_clf.predict([X_train[sample_id]]))\n",
    "\n",
    "#print(\"Actual result:\")\n",
    "#y_train[sample_id]"
   ]
  },
  {
   "cell_type": "code",
   "execution_count": null,
   "metadata": {},
   "outputs": [],
   "source": [
    "## In[6]: EVALUATE CLASSIFIERS\n",
    "#from sklearn.model_selection import cross_val_score\n",
    "\n",
    "## 6.2. RandomForestClassifier  \n",
    "##Tính accuracy, dùng cross_val_score, chỉ định scoring = \"accuracy\"\n",
    "## Warning: takes time for new run! \n",
    "\n",
    "#print('start calculate accuracy score...');\n",
    "#if 0:\n",
    "#    forest_acc = cross_val_score(rf_clf, X_train, y_train, cv=3, n_jobs=-1, scoring=\"accuracy\")\n",
    "#    joblib.dump(forest_acc,'saved_var/forest_acc')\n",
    "#else:\n",
    "#    forest_acc = joblib.load('saved_var/forest_acc')\n",
    "\n",
    "\n",
    "#print('complete... this is result of Random forest:')\n",
    "#print(forest_acc)\n",
    "#none = 1\n"
   ]
  }
 ]
}